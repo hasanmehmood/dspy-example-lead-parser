{
 "cells": [
  {
   "cell_type": "markdown",
   "metadata": {},
   "source": [
    "## Lead Parser Using DsPy Library\n",
    "\n",
    "In this notebook we have successfully implemented a Lead Parser using the DsPy library. \n",
    "\n",
    "DSPy emphasizes programming over prompting. It unifies techniques for prompting and fine-tuning LMs as well as improving them with reasoning and tool/retrieval augmentation, all expressed through a minimalistic set of Pythonic operations that compose and learn.\n",
    "\n",
    "DSPy provides composable and declarative modules for instructing LMs in a familiar Pythonic syntax. On top of that, DSPy introduces an automatic compiler that teaches LMs how to conduct the declarative steps in your program. The DSPy compiler will internally trace your program and then craft high-quality prompts for large LMs (or train automatic finetunes for small LMs) to teach them the steps of your task."
   ]
  },
  {
   "cell_type": "code",
   "execution_count": 10,
   "metadata": {},
   "outputs": [],
   "source": [
    "import os\n",
    "import dspy"
   ]
  },
  {
   "cell_type": "code",
   "execution_count": 11,
   "metadata": {},
   "outputs": [],
   "source": [
    "# Set up the LM.\n",
    "turbo = dspy.OpenAI(\n",
    "    model=\"gpt-3.5-turbo-instruct\",\n",
    "    max_tokens=250,\n",
    "    api_key=os.getenv(\"OPENAI_API_KEY\"),\n",
    ")\n",
    "dspy.settings.configure(lm=turbo)"
   ]
  },
  {
   "cell_type": "code",
   "execution_count": 19,
   "metadata": {},
   "outputs": [],
   "source": [
    "# defining the signature, which contains the input and output fields along with the description of the signature/task\n",
    "\n",
    "class ExtractLeadInfo(dspy.Signature):\n",
    "    \"\"\"Extract lead information from raw text.\"\"\"\n",
    "    raw_text = dspy.InputField(desc=\"Raw text containing demographic info\")\n",
    "    first_name = dspy.OutputField(desc=\"First name\")\n",
    "    last_name = dspy.OutputField(desc=\"Last name\")\n",
    "    phone = dspy.OutputField(desc=\"Phone number\")\n",
    "    email = dspy.OutputField(desc=\"Email address\")\n",
    "    address = dspy.OutputField(desc=\"Postal address\")\n",
    "    gender = dspy.OutputField(desc=\"Gender\")\n"
   ]
  },
  {
   "cell_type": "code",
   "execution_count": 13,
   "metadata": {},
   "outputs": [],
   "source": [
    "# import signature_to_template\n",
    "from dspy.signatures.signature import signature_to_template"
   ]
  },
  {
   "cell_type": "code",
   "execution_count": 14,
   "metadata": {},
   "outputs": [
    {
     "name": "stdout",
     "output_type": "stream",
     "text": [
      "Template(Extract lead information from raw text., ['Raw Text:', 'First Name:', 'Last Name:', 'Phone:', 'Email:', 'Address:', 'Gender:'])\n"
     ]
    }
   ],
   "source": [
    "lead_parser_template = signature_to_template(ExtractLeadInfo)\n",
    "print(lead_parser_template)"
   ]
  },
  {
   "cell_type": "code",
   "execution_count": 20,
   "metadata": {},
   "outputs": [],
   "source": [
    "# create a chain of thought module which will use the signature and the template to extract the lead information from the raw text\n",
    "\n",
    "class CoT(dspy.Module):\n",
    "    def __init__(self):\n",
    "        super().__init__()\n",
    "        self.prog = dspy.ChainOfThought(ExtractLeadInfo)\n",
    "        \n",
    "    def forward(self, raw_text):\n",
    "        return self.prog(raw_text=raw_text)\n"
   ]
  },
  {
   "cell_type": "code",
   "execution_count": 16,
   "metadata": {},
   "outputs": [],
   "source": [
    "c = CoT()"
   ]
  },
  {
   "cell_type": "code",
   "execution_count": 17,
   "metadata": {},
   "outputs": [],
   "source": [
    "raw_text = \"John Doe, phone: 123-456-7890, email: john.doe@example.com, address: 123 Main St, gender: male\""
   ]
  },
  {
   "cell_type": "code",
   "execution_count": 18,
   "metadata": {},
   "outputs": [
    {
     "data": {
      "text/plain": [
       "Prediction(\n",
       "    rationale='produce the gender. We first need to extract the demographic information from the raw text. This includes the first name, last name, phone number, email address, address, and gender. We can use the commas to separate the different pieces of information and then assign them to their respective categories.',\n",
       "    first_name='John',\n",
       "    last_name='Doe',\n",
       "    phone='123-456-7890',\n",
       "    email='john.doe@example.com',\n",
       "    address='123 Main St',\n",
       "    gender='Male'\n",
       ")"
      ]
     },
     "execution_count": 18,
     "metadata": {},
     "output_type": "execute_result"
    }
   ],
   "source": [
    "# result of the chain of thought module\n",
    "c.forward(raw_text)"
   ]
  },
  {
   "cell_type": "code",
   "execution_count": null,
   "metadata": {},
   "outputs": [],
   "source": []
  }
 ],
 "metadata": {
  "kernelspec": {
   "display_name": "venv",
   "language": "python",
   "name": "python3"
  },
  "language_info": {
   "codemirror_mode": {
    "name": "ipython",
    "version": 3
   },
   "file_extension": ".py",
   "mimetype": "text/x-python",
   "name": "python",
   "nbconvert_exporter": "python",
   "pygments_lexer": "ipython3",
   "version": "3.10.14"
  }
 },
 "nbformat": 4,
 "nbformat_minor": 2
}
